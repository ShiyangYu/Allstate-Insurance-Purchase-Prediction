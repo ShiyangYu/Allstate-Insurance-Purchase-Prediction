{
 "cells": [
  {
   "cell_type": "code",
   "execution_count": 1,
   "metadata": {},
   "outputs": [],
   "source": [
    "import pandas as pd\n",
    "from pyspark.sql import HiveContext\n",
    "from pyspark import SparkContext,SparkConf\n",
    "from sqlalchemy import create_engine\n",
    "import datetime\n",
    "import pyspark.sql.functions as F\n",
    "from pyspark.sql import SQLContext"
   ]
  },
  {
   "cell_type": "code",
   "execution_count": 2,
   "metadata": {},
   "outputs": [],
   "source": [
    "conf = SparkConf().setAppName(\"abc\")\n",
    "sc = SparkContext(conf=conf)\n",
    "hiveCtx = HiveContext(sc)\n",
    "sqlContext=SQLContext(sc) "
   ]
  },
  {
   "cell_type": "code",
   "execution_count": 3,
   "metadata": {},
   "outputs": [
    {
     "name": "stderr",
     "output_type": "stream",
     "text": [
      "D:\\JUPYTER\\lib\\site-packages\\ipykernel_launcher.py:4: DeprecationWarning: \n",
      ".ix is deprecated. Please use\n",
      ".loc for label based indexing or\n",
      ".iloc for positional indexing\n",
      "\n",
      "See the documentation here:\n",
      "http://pandas.pydata.org/pandas-docs/stable/indexing.html#ix-indexer-is-deprecated\n",
      "  after removing the cwd from sys.path.\n"
     ]
    }
   ],
   "source": [
    "data=pd.read_csv('train.csv')\n",
    "cols=[\"state\",'A','B','C','D','E','F','G']\n",
    "pur=data[data['record_type']==1][cols]\n",
    "lq = data.ix[pur.index-1,cols]\n",
    "lq=lq.reset_index(drop=True)\n",
    "pur=pur.reset_index(drop=True)"
   ]
  },
  {
   "cell_type": "code",
   "execution_count": 4,
   "metadata": {},
   "outputs": [],
   "source": [
    "df1=sqlContext.createDataFrame(pur) \n",
    "df2=sqlContext.createDataFrame(lq) "
   ]
  },
  {
   "cell_type": "code",
   "execution_count": 5,
   "metadata": {},
   "outputs": [
    {
     "name": "stdout",
     "output_type": "stream",
     "text": [
      "+-----+---+---+---+---+---+---+---+\n",
      "|state|  A|  B|  C|  D|  E|  F|  G|\n",
      "+-----+---+---+---+---+---+---+---+\n",
      "|   IN|  1|  0|  2|  2|  1|  2|  1|\n",
      "|   NY|  0|  0|  3|  2|  0|  0|  2|\n",
      "|   PA|  0|  0|  1|  2|  0|  0|  1|\n",
      "|   WV|  1|  1|  3|  2|  1|  1|  3|\n",
      "|   MO|  1|  1|  1|  1|  0|  2|  2|\n",
      "|   OH|  2|  0|  3|  3|  0|  3|  3|\n",
      "|   OK|  2|  1|  2|  3|  1|  2|  3|\n",
      "|   PA|  1|  1|  1|  3|  1|  1|  2|\n",
      "|   OH|  0|  0|  1|  1|  0|  0|  3|\n",
      "|   OH|  1|  1|  3|  3|  1|  2|  3|\n",
      "|   IN|  0|  0|  2|  2|  0|  0|  1|\n",
      "|   FL|  1|  0|  1|  3|  0|  2|  3|\n",
      "|   OR|  1|  1|  1|  1|  0|  1|  2|\n",
      "|   OR|  1|  1|  3|  3|  0|  2|  3|\n",
      "|   WA|  2|  0|  1|  1|  0|  1|  2|\n",
      "|   OK|  2|  1|  2|  3|  0|  2|  2|\n",
      "|   FL|  1|  1|  3|  3|  0|  2|  3|\n",
      "|   PA|  1|  0|  1|  2|  1|  2|  2|\n",
      "|   WA|  1|  1|  1|  1|  1|  2|  2|\n",
      "|   OH|  1|  1|  3|  3|  1|  2|  3|\n",
      "+-----+---+---+---+---+---+---+---+\n",
      "only showing top 20 rows\n",
      "\n"
     ]
    }
   ],
   "source": [
    "df1.show()"
   ]
  },
  {
   "cell_type": "code",
   "execution_count": 6,
   "metadata": {},
   "outputs": [],
   "source": [
    "GA1=df1.filter(df1.state=='GA')"
   ]
  },
  {
   "cell_type": "code",
   "execution_count": 7,
   "metadata": {},
   "outputs": [
    {
     "name": "stdout",
     "output_type": "stream",
     "text": [
      "+-----+---+---+---+---+---+---+---+\n",
      "|state|  A|  B|  C|  D|  E|  F|  G|\n",
      "+-----+---+---+---+---+---+---+---+\n",
      "|   GA|  0|  0|  2|  3|  0|  0|  3|\n",
      "|   GA|  0|  0|  2|  3|  0|  0|  2|\n",
      "|   GA|  1|  1|  2|  2|  1|  1|  2|\n",
      "|   GA|  0|  0|  2|  2|  0|  0|  1|\n",
      "|   GA|  1|  1|  2|  2|  1|  2|  2|\n",
      "|   GA|  2|  1|  2|  2|  0|  2|  2|\n",
      "|   GA|  0|  1|  2|  2|  1|  2|  2|\n",
      "|   GA|  1|  1|  2|  2|  1|  2|  2|\n",
      "|   GA|  1|  0|  2|  3|  1|  2|  1|\n",
      "|   GA|  2|  1|  2|  2|  1|  3|  2|\n",
      "|   GA|  1|  1|  2|  2|  1|  2|  1|\n",
      "|   GA|  0|  0|  2|  3|  0|  0|  4|\n",
      "|   GA|  1|  0|  2|  2|  0|  2|  2|\n",
      "|   GA|  2|  1|  2|  3|  1|  2|  2|\n",
      "|   GA|  1|  0|  2|  2|  0|  2|  2|\n",
      "|   GA|  1|  1|  3|  3|  1|  2|  4|\n",
      "|   GA|  1|  1|  3|  3|  1|  2|  4|\n",
      "|   GA|  0|  0|  2|  2|  0|  0|  2|\n",
      "|   GA|  2|  1|  3|  2|  1|  2|  4|\n",
      "|   GA|  1|  1|  2|  2|  1|  1|  3|\n",
      "+-----+---+---+---+---+---+---+---+\n",
      "only showing top 20 rows\n",
      "\n"
     ]
    }
   ],
   "source": [
    "GA1.show()"
   ]
  },
  {
   "cell_type": "code",
   "execution_count": 8,
   "metadata": {},
   "outputs": [
    {
     "data": {
      "text/plain": [
       "[3, 2, 4]"
      ]
     },
     "execution_count": 8,
     "metadata": {},
     "output_type": "execute_result"
    }
   ],
   "source": [
    "#### Purchase for Georgia\n",
    "GA1.select('C').distinct().rdd.map(lambda r: r[0]).collect()"
   ]
  },
  {
   "cell_type": "code",
   "execution_count": 10,
   "metadata": {},
   "outputs": [
    {
     "name": "stdout",
     "output_type": "stream",
     "text": [
      "[2 ,3, 4]\n"
     ]
    }
   ],
   "source": [
    "GA1.select('D').distinct().rdd.map(lambda r: r[0]).collect()"
   ]
  },
  {
   "cell_type": "code",
   "execution_count": 12,
   "metadata": {},
   "outputs": [],
   "source": [
    "#### Quotes for Geogia\n",
    "GA2=df2.filter(df2.state=='GA')"
   ]
  },
  {
   "cell_type": "code",
   "execution_count": 13,
   "metadata": {},
   "outputs": [
    {
     "data": {
      "text/plain": [
       "[1, 3, 2, 4]"
      ]
     },
     "execution_count": 13,
     "metadata": {},
     "output_type": "execute_result"
    }
   ],
   "source": [
    "GA2.select('C').distinct().rdd.map(lambda r: r[0]).collect()"
   ]
  },
  {
   "cell_type": "code",
   "execution_count": 14,
   "metadata": {},
   "outputs": [
    {
     "data": {
      "text/plain": [
       "[1, 3, 2]"
      ]
     },
     "execution_count": 14,
     "metadata": {},
     "output_type": "execute_result"
    }
   ],
   "source": [
    "GA2.select('D').distinct().rdd.map(lambda r: r[0]).collect()"
   ]
  },
  {
   "cell_type": "code",
   "execution_count": 15,
   "metadata": {},
   "outputs": [],
   "source": [
    "#### Purchase for Florida\n",
    "FL1=df1.filter(df1.state=='FL')\n",
    "#### Quotes for Florida\n",
    "FL2=df2.filter(df2.state=='FL')"
   ]
  },
  {
   "cell_type": "code",
   "execution_count": 16,
   "metadata": {},
   "outputs": [
    {
     "data": {
      "text/plain": [
       "[3, 4]"
      ]
     },
     "execution_count": 16,
     "metadata": {},
     "output_type": "execute_result"
    }
   ],
   "source": [
    "FL1.select('G').distinct().rdd.map(lambda r: r[0]).collect()"
   ]
  },
  {
   "cell_type": "code",
   "execution_count": 17,
   "metadata": {},
   "outputs": [
    {
     "data": {
      "text/plain": [
       "[3, 2, 4]"
      ]
     },
     "execution_count": 17,
     "metadata": {},
     "output_type": "execute_result"
    }
   ],
   "source": [
    "FL2.select('G').distinct().rdd.map(lambda r: r[0]).collect()"
   ]
  }
 ],
 "metadata": {
  "kernelspec": {
   "display_name": "Python 3",
   "language": "python",
   "name": "python3"
  },
  "language_info": {
   "codemirror_mode": {
    "name": "ipython",
    "version": 3
   },
   "file_extension": ".py",
   "mimetype": "text/x-python",
   "name": "python",
   "nbconvert_exporter": "python",
   "pygments_lexer": "ipython3",
   "version": "3.6.5"
  }
 },
 "nbformat": 4,
 "nbformat_minor": 2
}
